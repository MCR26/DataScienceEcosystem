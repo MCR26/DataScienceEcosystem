{
 "cells": [
  {
   "cell_type": "markdown",
   "id": "c3c87590-0518-49f2-a936-5a5ccb95f35b",
   "metadata": {},
   "source": [
    "# Data Science Tools and Ecosystem"
   ]
  },
  {
   "cell_type": "markdown",
   "id": "30e1dceb-2f53-497e-8abf-046161bf6f17",
   "metadata": {},
   "source": [
    "En este cuaderno, se resumen las herramientas y ecosistemas de ciencia de datos.\n"
   ]
  },
  {
   "cell_type": "markdown",
   "id": "84d356b9-13fb-4fa2-9ee7-ae8ca99bbe04",
   "metadata": {},
   "source": [
    "**Objetivos:**\n",
    "- Listar lenguajes populares para Ciencia de Datos.\n",
    "- Listar bibliotecas comunes utilizadas en la Ciencia de Datos.\n",
    "- Representar ejemplos de operaciones aritméticas.\n",
    "- Hacer uso de diferentes estilos de encabezado."
   ]
  },
  {
   "cell_type": "markdown",
   "id": "9ff968b8-3566-4a62-938e-0daa4e29d5dd",
   "metadata": {},
   "source": [
    "Algunos de los lenguajes populares que utilizan los científicos de datos son:\n",
    "1. Python\n",
    "2. R\n",
    "3. SQL\n"
   ]
  },
  {
   "cell_type": "markdown",
   "id": "a193e595-6455-4f40-acb2-b309c9a52748",
   "metadata": {},
   "source": [
    "Algunas de las bibliotecas comúnmente utilizadas por los científicos de datos incluyen:\n",
    "\n",
    "1. TensorFlow\n",
    "2. Pandas\n",
    "3. Numpy"
   ]
  },
  {
   "cell_type": "markdown",
   "id": "2cbc5ac7-1f92-4c0a-ba2f-a09ac5186f08",
   "metadata": {},
   "source": [
    "|Herramientas de Ciencia de Datos|\n",
    "|--------------------------------|\n",
    "|             R                  |\n",
    "|           Phyton               |\n",
    "|      Jupyter Notebook          |"
   ]
  },
  {
   "cell_type": "markdown",
   "id": "fca09604-3cad-43be-9bf4-9148ded8aa3f",
   "metadata": {},
   "source": [
    "### A continuación, se presentan algunos ejemplos de evaluación de expresiones aritméticas en Python\n"
   ]
  },
  {
   "cell_type": "code",
   "execution_count": 11,
   "id": "86d67651-565f-442b-99ee-d43610a1b067",
   "metadata": {},
   "outputs": [
    {
     "data": {
      "text/plain": [
       "17"
      ]
     },
     "execution_count": 11,
     "metadata": {},
     "output_type": "execute_result"
    }
   ],
   "source": [
    "# Esta es una expresión aritmética simple para multiplicar y luego sumar enteros.\n",
    "( 3 * 4 ) + 5"
   ]
  },
  {
   "cell_type": "code",
   "execution_count": 17,
   "id": "e5957126-e1e4-43a0-8260-c443a1f703bc",
   "metadata": {},
   "outputs": [
    {
     "name": "stdout",
     "output_type": "stream",
     "text": [
      "3.3333333333333335\n"
     ]
    }
   ],
   "source": [
    "# Esto convertirá 200 minutos a horas dividiendo por 60.\n",
    "minutos = 200\n",
    "horas = minutos/60\n",
    "print (horas)\n"
   ]
  },
  {
   "cell_type": "markdown",
   "id": "dc35317f-3cb9-409d-8843-11245a32e9fa",
   "metadata": {},
   "source": [
    "## Autor\n",
    "Victor Moisés Cerdas Rivera"
   ]
  },
  {
   "cell_type": "code",
   "execution_count": null,
   "id": "f2538b0c-ea55-4d81-812c-661df7069aad",
   "metadata": {},
   "outputs": [],
   "source": []
  }
 ],
 "metadata": {
  "kernelspec": {
   "display_name": "Python [conda env:base] *",
   "language": "python",
   "name": "conda-base-py"
  },
  "language_info": {
   "codemirror_mode": {
    "name": "ipython",
    "version": 3
   },
   "file_extension": ".py",
   "mimetype": "text/x-python",
   "name": "python",
   "nbconvert_exporter": "python",
   "pygments_lexer": "ipython3",
   "version": "3.12.7"
  }
 },
 "nbformat": 4,
 "nbformat_minor": 5
}
