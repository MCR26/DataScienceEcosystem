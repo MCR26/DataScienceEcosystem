{
 "cells": [
  {
   "cell_type": "markdown",
   "id": "c3c87590-0518-49f2-a936-5a5ccb95f35b",
   "metadata": {},
   "source": [
    "# Data Science Tools and Ecosystem"
   ]
  },
  {
   "cell_type": "markdown",
   "id": "30e1dceb-2f53-497e-8abf-046161bf6f17",
   "metadata": {},
   "source": [
    "In this notebook, Data Science Tools and Ecosystem are summarized.\n"
   ]
  },
  {
   "cell_type": "markdown",
   "id": "84d356b9-13fb-4fa2-9ee7-ae8ca99bbe04",
   "metadata": {},
   "source": [
    "**Objectives:**\n",
    "- List popular languages ​​for Data Science.\n",
    "- List common libraries used in Data Science.\n",
    "- Represent examples of arithmetic operations.\n",
    "- Use different heading styles."
   ]
  },
  {
   "cell_type": "markdown",
   "id": "9ff968b8-3566-4a62-938e-0daa4e29d5dd",
   "metadata": {},
   "source": [
    "Some of the popular languages that Data Scientists use are:\n",
    "1. Python\n",
    "2. R\n",
    "3. SQL\n"
   ]
  },
  {
   "cell_type": "markdown",
   "id": "a193e595-6455-4f40-acb2-b309c9a52748",
   "metadata": {},
   "source": [
    "Some of the commonly used libraries used by Data Scientists include:\n",
    "\n",
    "1. TensorFlow\n",
    "2. Pandas\n",
    "3. Numpy"
   ]
  },
  {
   "cell_type": "markdown",
   "id": "2cbc5ac7-1f92-4c0a-ba2f-a09ac5186f08",
   "metadata": {},
   "source": [
    "|Data Science Tools|\n",
    "|--------------------------------|\n",
    "|             R                  |\n",
    "|           Phyton               |\n",
    "|      Jupyter Notebook          |"
   ]
  },
  {
   "cell_type": "markdown",
   "id": "fca09604-3cad-43be-9bf4-9148ded8aa3f",
   "metadata": {},
   "source": [
    "### Below are a few examples of evaluating arithmetic expressions in Python.\n"
   ]
  },
  {
   "cell_type": "code",
   "execution_count": 6,
   "id": "86d67651-565f-442b-99ee-d43610a1b067",
   "metadata": {},
   "outputs": [
    {
     "data": {
      "text/plain": [
       "17"
      ]
     },
     "execution_count": 6,
     "metadata": {},
     "output_type": "execute_result"
    }
   ],
   "source": [
    "# This a simple arithmetic expression to mutiply then add integers\n",
    "( 3 * 4 ) + 5"
   ]
  },
  {
   "cell_type": "code",
   "execution_count": 8,
   "id": "e5957126-e1e4-43a0-8260-c443a1f703bc",
   "metadata": {},
   "outputs": [
    {
     "name": "stdout",
     "output_type": "stream",
     "text": [
      "3.3333333333333335\n"
     ]
    }
   ],
   "source": [
    "# This will convert 200 minutes to hours by diving by 60\n",
    "minutes = 200\n",
    "hours = minutes/60\n",
    "print (hours)\n"
   ]
  },
  {
   "cell_type": "markdown",
   "id": "dc35317f-3cb9-409d-8843-11245a32e9fa",
   "metadata": {},
   "source": [
    "## Autor\n",
    "Victor Moisés Cerdas Rivera"
   ]
  },
  {
   "cell_type": "code",
   "execution_count": null,
   "id": "f2538b0c-ea55-4d81-812c-661df7069aad",
   "metadata": {},
   "outputs": [],
   "source": []
  }
 ],
 "metadata": {
  "kernelspec": {
   "display_name": "Python [conda env:base] *",
   "language": "python",
   "name": "conda-base-py"
  },
  "language_info": {
   "codemirror_mode": {
    "name": "ipython",
    "version": 3
   },
   "file_extension": ".py",
   "mimetype": "text/x-python",
   "name": "python",
   "nbconvert_exporter": "python",
   "pygments_lexer": "ipython3",
   "version": "3.12.7"
  }
 },
 "nbformat": 4,
 "nbformat_minor": 5
}
